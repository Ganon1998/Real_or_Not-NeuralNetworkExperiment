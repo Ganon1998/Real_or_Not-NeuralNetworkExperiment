{
  "nbformat": 4,
  "nbformat_minor": 0,
  "metadata": {
    "colab": {
      "name": "Real_or_Fake.ipynb",
      "provenance": [],
      "collapsed_sections": []
    },
    "kernelspec": {
      "name": "python3",
      "display_name": "Python 3"
    },
    "language_info": {
      "name": "python"
    }
  },
  "cells": [
    {
      "cell_type": "code",
      "metadata": {
        "id": "h83pXhSE2KBL",
        "colab": {
          "base_uri": "https://localhost:8080/",
          "height": 1000
        },
        "outputId": "fc8b8b96-76f8-4e8c-e7b3-174369cd7f80"
      },
      "source": [
        "import numpy as np\n",
        "import math\n",
        "import sys\n",
        "import statistics\n",
        "import tensorflow as tf\n",
        "import string\n",
        "import random\n",
        "import matplotlib.pyplot as plt\n",
        "import glob\n",
        "import os\n",
        "from PIL import Image\n",
        "from matplotlib import pyplot\n",
        "from tensorflow import keras\n",
        "from tensorflow.keras import layers\n",
        "from google.colab import drive\n",
        "from tensorflow.python.framework import ops\n",
        "from keras.preprocessing.image import load_img\n",
        "from keras.preprocessing.image import img_to_array\n",
        "from keras.models import Model\n",
        "from tensorflow.keras.layers.experimental import preprocessing\n",
        "\n",
        "drive.mount('/content/gdrive')\n",
        "\n",
        "# NN for data augmentation\n",
        "data_augmentation = tf.keras.Sequential([\n",
        "    layers.experimental.preprocessing.RandomWidth(0.1),\n",
        "    layers.experimental.preprocessing.RandomHeight(0.1),\n",
        "    layers.experimental.preprocessing.RandomZoom(0.2),\n",
        "  ])\n",
        "\n",
        "d = tf.keras.models.load_model('/content/gdrive/My Drive/NewUnsupFaceTwo')\n",
        "c = tf.keras.models.load_model('/content/gdrive/My Drive/OtherNewUnsupCNN')\n",
        "modelDen = keras.models.Sequential()\n",
        "modelCNN = keras.models.Sequential()\n",
        "\n",
        "# all of this is hard coded. Sadness.\n",
        "modelDen.add(d.layers[0])\n",
        "modelDen.add(keras.layers.Dense(8))\n",
        "modelDen.add(keras.layers.Activation('relu'))\n",
        "modelDen.add(keras.layers.Dropout(0.4))\n",
        "modelDen.add(keras.layers.Dense(2))  # fake or real face\n",
        "modelDen.add(keras.layers.Activation('sigmoid'))\n",
        "\n",
        "\n",
        "# CNN\n",
        "modelCNN.add(c.layers[0])\n",
        "modelCNN.add(keras.layers.Flatten())\n",
        "modelCNN.add(keras.layers.Dropout(0.4))\n",
        "modelCNN.add(keras.layers.Dense(2))  # fake or real face\n",
        "modelCNN.add(keras.layers.Activation('softmax'))\n",
        "\n",
        "x_train = []\n",
        "x_test = []\n",
        "\n",
        "y_train = []\n",
        "y_test = []\n",
        "\n",
        "x = []\n",
        "y = []\n",
        "\n",
        "realCount = 0\n",
        "fakeCount = 0\n",
        "\n",
        "x2 = []\n",
        "y2 = []\n",
        "\n",
        "z = []\n",
        "a = []\n",
        "\n",
        "print(\"Getting real faces\")\n",
        "for filename in glob.iglob(os.path.join('/content/gdrive/My Drive/realAndFake/real_and_fake_face/training_real/', \"*.jpg\")):\n",
        "  img = Image.open(filename)\n",
        "  img.thumbnail((128,128), Image.ANTIALIAS)\n",
        "  img = img_to_array(img) \n",
        "  img = tf.image.rgb_to_grayscale(img)\n",
        "  x.append(img)\n",
        "  y.append([1.0])\n",
        "  realCount += 1\n",
        "\n",
        "\n",
        "\n",
        "print(\"Getting fake faces\")\n",
        "for filename in glob.iglob(os.path.join('/content/gdrive/My Drive/realAndFake/real_and_fake_face/training_fake/', \"*.jpg\")):\n",
        "  img = Image.open(filename)\n",
        "  img.thumbnail((128,128), Image.ANTIALIAS)\n",
        "  img = img_to_array(img) \n",
        "  img = tf.image.rgb_to_grayscale(img)\n",
        "  x.append(img)\n",
        "  y.append([0.0])\n",
        "  fakeCount += 1\n",
        "\n",
        "\n",
        "x_train = x[:1428]\n",
        "x_test = x[1428:]\n",
        "\n",
        "y_train = y[:1428]\n",
        "y_test = y[1428:]\n",
        "\n",
        "\n",
        "'''ds_train = {}\n",
        "ds_test = {}\n",
        "ds_train = dict(zip(x_train, y_train))\n",
        "ds_test = dict(zip(x_test, y_test))\n",
        "\n",
        "\n",
        "temp = list(ds_train.keys)\n",
        "random.shuffle(temp)\n",
        "random.shuffle(temp)'''\n",
        "\n",
        "\n",
        "y_test = ops.convert_to_tensor(y_test, dtype=tf.float32) / 255.00\n",
        "y_train = ops.convert_to_tensor(y_train, dtype=tf.float32) / 255.00\n",
        "x_train = tf.convert_to_tensor(x_train, dtype=tf.float32) / 255.00\n",
        "x_test = tf.convert_to_tensor(x_test, dtype=tf.float32) / 255.00\n",
        "\n",
        "\n",
        "######################### using a non pretrained model #############################\n",
        "\n",
        "CNN_untrained = keras.models.Sequential(\n",
        "    [\n",
        "     keras.layers.Input((128, 128, 1)),\n",
        "     keras.layers.Conv2D(16, kernel_size=(3,3), activation='relu'),\n",
        "     keras.layers.MaxPool2D(pool_size=(2,2)),\n",
        "     keras.layers.Conv2D(24, kernel_size=(3,3), activation='relu'),\n",
        "     keras.layers.MaxPool2D(pool_size=(2,2)),\n",
        "     keras.layers.Dropout(0.2),\n",
        "     keras.layers.Flatten(),\n",
        "     keras.layers.Dense(2, activation='softmax')\n",
        "    ]\n",
        ")\n",
        "\n",
        "\n",
        "\n",
        "# batch size of 128 gave some close answers w/ MSE() w/ epochs=45\n",
        "modelDen.compile(optimizer=keras.optimizers.Adam(learning_rate=0.001), loss=keras.losses.MeanSquaredError(), metrics='accuracy')\n",
        "modelDen.fit(x=x_train, y=y_train, shuffle=True, batch_size=128, epochs=15, validation_data=(x_test, y_test))\n",
        "#modelDen.save('/content/gdrive/My Drive/fake-RealDense')\n",
        "\n",
        "\n",
        "print(\"================================================\")\n",
        "print(\"================================================\")\n",
        "print(\"================================================\")\n",
        "print(\"Training CNN model now.\\n\")\n",
        "\n",
        "modelCNN.compile(optimizer=keras.optimizers.Adam(learning_rate=0.001), loss=keras.losses.MeanSquaredError(), metrics='accuracy')\n",
        "modelCNN.fit(x=x_train, y=y_train, shuffle=True, batch_size=128, epochs=10, validation_data=(x_test, y_test))\n",
        "#modelCNN.save('/content/gdrive/My Drive/fake-RealCNN')\n",
        "\n",
        "\n",
        "print(\"================================================\")\n",
        "print(\"================================================\")\n",
        "print(\"================================================\")\n",
        "print(\"Training Untrained model now.\\n\")\n",
        "\n",
        "CNN_untrained.compile(optimizer=keras.optimizers.Adam(learning_rate=0.01), loss=keras.losses.MeanSquaredError(), metrics='accuracy')\n",
        "CNN_untrained.fit(x=x_train, y=y_train, shuffle=True, batch_size=128, epochs=30, validation_data=(x_test, y_test))\n",
        "\n",
        "\n",
        "################ Predictions begin here ################\n",
        "\n",
        "\n",
        "print(\"Testing real faces\")\n",
        "imgWoman = load_img('/content/gdrive/My Drive/test2.jpg', target_size=(128, 128))\n",
        "imgMan = load_img('/content/gdrive/My Drive/test3.jpg', target_size=(128, 128))\n",
        "\n",
        "imgWoman = img_to_array(imgWoman)\n",
        "imgMan = img_to_array(imgMan)\n",
        "\n",
        "imgWoman = imgWoman.reshape(-1, 128, 128, 1)\n",
        "imgMan = imgMan.reshape(-1, 128, 128, 1)\n",
        "\n",
        "feature_mapsW = modelDen.predict(imgWoman)\n",
        "feature_mapsM = modelDen.predict(imgMan)\n",
        "print(np.argmax(feature_mapsM, axis = 1))\n",
        "print(np.argmax(feature_mapsW, axis = 1))\n",
        "\n",
        "print(\"The feature maps for the real faces\\n\")\n",
        "pyplot.imshow(feature_mapsW[:,:], cmap='gray')\n",
        "pyplot.show()\n",
        "pyplot.imshow(feature_mapsM[:,:], cmap='gray')\n",
        "pyplot.show()\n",
        "\n",
        "\n",
        "print(\"Testing fake faces\")\n",
        "fake1 = load_img('/content/gdrive/My Drive/1-detectingfak.jpg', target_size=(128, 128))\n",
        "fake2 = load_img('/content/gdrive/My Drive/image2.jpg', target_size=(128, 128))\n",
        "\n",
        "img1 = img_to_array(fake1)\n",
        "img2 = img_to_array(fake2)\n",
        "\n",
        "img1 = img1.reshape(-1, 128, 128, 1)\n",
        "img2 = img2.reshape(-1, 128, 128, 1)\n",
        "\n",
        "feature_maps1 = modelDen.predict(img1)\n",
        "feature_maps2 = modelDen.predict(img2)\n",
        "\n",
        "print(np.argmax(feature_maps1, axis = 1))\n",
        "print(np.argmax(feature_maps2, axis = 1))\n",
        "\n",
        "print(\"The feature maps for the fake faces\\n\")\n",
        "pyplot.imshow(feature_maps1[:,:], cmap='gray')\n",
        "pyplot.show()\n",
        "pyplot.imshow(feature_maps2[:,:], cmap='gray')\n",
        "pyplot.show()\n",
        "\n",
        "\n",
        "\n",
        "\n",
        "\n",
        "print(\"Testing face with CNN\")\n",
        "feature_mapCNN = modelCNN.predict(imgWoman)\n",
        "feature_mapCNN2 = modelCNN.predict(imgMan)\n",
        "feature_mapCNN3 = modelCNN.predict(img1)\n",
        "feature_mapCNN4 = modelCNN.predict(img2)\n",
        "\n",
        "print(\"feature maps for entire CNN\")\n",
        "pyplot.imshow(feature_mapCNN[:,:], cmap='gray')\n",
        "pyplot.show()\n",
        "pyplot.imshow(feature_mapCNN2[:,:], cmap='gray')\n",
        "pyplot.show()\n",
        "print(\"Fake faces\")\n",
        "pyplot.imshow(feature_mapCNN3[:,:], cmap='gray')\n",
        "pyplot.show()\n",
        "pyplot.imshow(feature_mapCNN4[:,:], cmap='gray')\n",
        "pyplot.show()"
      ],
      "execution_count": null,
      "outputs": [
        {
          "output_type": "stream",
          "name": "stdout",
          "text": [
            "Drive already mounted at /content/gdrive; to attempt to forcibly remount, call drive.mount(\"/content/gdrive\", force_remount=True).\n",
            "Getting real faces\n",
            "Getting fake faces\n",
            "Epoch 1/15\n",
            "12/12 [==============================] - 1s 41ms/step - loss: 0.2458 - accuracy: 0.2430 - val_loss: 0.2470 - val_accuracy: 1.0000\n",
            "Epoch 2/15\n",
            "12/12 [==============================] - 0s 30ms/step - loss: 0.2428 - accuracy: 0.2430 - val_loss: 0.2440 - val_accuracy: 1.0000\n",
            "Epoch 3/15\n",
            "12/12 [==============================] - 0s 30ms/step - loss: 0.2399 - accuracy: 0.2430 - val_loss: 0.2411 - val_accuracy: 1.0000\n",
            "Epoch 4/15\n",
            "12/12 [==============================] - 0s 30ms/step - loss: 0.2370 - accuracy: 0.2430 - val_loss: 0.2382 - val_accuracy: 1.0000\n",
            "Epoch 5/15\n",
            "12/12 [==============================] - 0s 31ms/step - loss: 0.2341 - accuracy: 0.2430 - val_loss: 0.2353 - val_accuracy: 1.0000\n",
            "Epoch 6/15\n",
            "12/12 [==============================] - 0s 29ms/step - loss: 0.2312 - accuracy: 0.2430 - val_loss: 0.2324 - val_accuracy: 1.0000\n",
            "Epoch 7/15\n",
            "12/12 [==============================] - 0s 30ms/step - loss: 0.2284 - accuracy: 0.2430 - val_loss: 0.2296 - val_accuracy: 1.0000\n",
            "Epoch 8/15\n",
            "12/12 [==============================] - 0s 30ms/step - loss: 0.2256 - accuracy: 0.2430 - val_loss: 0.2268 - val_accuracy: 1.0000\n",
            "Epoch 9/15\n",
            "12/12 [==============================] - 0s 29ms/step - loss: 0.2228 - accuracy: 0.2430 - val_loss: 0.2240 - val_accuracy: 1.0000\n",
            "Epoch 10/15\n",
            "12/12 [==============================] - 0s 31ms/step - loss: 0.2201 - accuracy: 0.2430 - val_loss: 0.2213 - val_accuracy: 1.0000\n",
            "Epoch 11/15\n",
            "12/12 [==============================] - 0s 30ms/step - loss: 0.2173 - accuracy: 0.2430 - val_loss: 0.2185 - val_accuracy: 1.0000\n",
            "Epoch 12/15\n",
            "12/12 [==============================] - 0s 30ms/step - loss: 0.2146 - accuracy: 0.2430 - val_loss: 0.2158 - val_accuracy: 1.0000\n",
            "Epoch 13/15\n",
            "12/12 [==============================] - 0s 31ms/step - loss: 0.2120 - accuracy: 0.2430 - val_loss: 0.2132 - val_accuracy: 1.0000\n",
            "Epoch 14/15\n",
            "12/12 [==============================] - 0s 30ms/step - loss: 0.2093 - accuracy: 0.2430 - val_loss: 0.2105 - val_accuracy: 1.0000\n",
            "Epoch 15/15\n",
            "12/12 [==============================] - 0s 30ms/step - loss: 0.2067 - accuracy: 0.2430 - val_loss: 0.2079 - val_accuracy: 1.0000\n",
            "================================================\n",
            "================================================\n",
            "================================================\n",
            "Training CNN model now.\n",
            "\n",
            "Epoch 1/10\n",
            "12/12 [==============================] - 4s 321ms/step - loss: 0.2535 - accuracy: 0.1148 - val_loss: 0.2500 - val_accuracy: 0.3752\n",
            "Epoch 2/10\n",
            "12/12 [==============================] - 4s 308ms/step - loss: 0.2480 - accuracy: 0.1541 - val_loss: 0.2500 - val_accuracy: 0.5204\n",
            "Epoch 3/10\n",
            "12/12 [==============================] - 4s 312ms/step - loss: 0.2474 - accuracy: 0.1001 - val_loss: 0.2500 - val_accuracy: 0.0538\n",
            "Epoch 4/10\n",
            "12/12 [==============================] - 4s 311ms/step - loss: 0.2472 - accuracy: 0.0987 - val_loss: 0.2500 - val_accuracy: 0.0946\n",
            "Epoch 5/10\n",
            "12/12 [==============================] - 4s 308ms/step - loss: 0.2472 - accuracy: 0.1141 - val_loss: 0.2500 - val_accuracy: 0.3295\n",
            "Epoch 6/10\n",
            "12/12 [==============================] - 4s 310ms/step - loss: 0.2471 - accuracy: 0.1211 - val_loss: 0.2500 - val_accuracy: 0.7814\n",
            "Epoch 7/10\n",
            "12/12 [==============================] - 4s 308ms/step - loss: 0.2471 - accuracy: 0.1282 - val_loss: 0.2500 - val_accuracy: 0.7814\n",
            "Epoch 8/10\n",
            "12/12 [==============================] - 4s 310ms/step - loss: 0.2471 - accuracy: 0.1296 - val_loss: 0.2500 - val_accuracy: 0.6117\n",
            "Epoch 9/10\n",
            "12/12 [==============================] - 4s 308ms/step - loss: 0.2471 - accuracy: 0.1197 - val_loss: 0.2500 - val_accuracy: 0.3801\n",
            "Epoch 10/10\n",
            "12/12 [==============================] - 4s 309ms/step - loss: 0.2471 - accuracy: 0.1204 - val_loss: 0.2500 - val_accuracy: 0.3687\n",
            "================================================\n",
            "================================================\n",
            "================================================\n",
            "Training Untrained model now.\n",
            "\n",
            "Epoch 1/30\n",
            "12/12 [==============================] - 14s 1s/step - loss: 0.4291 - accuracy: 0.2052 - val_loss: 0.2732 - val_accuracy: 0.0000e+00\n",
            "Epoch 2/30\n",
            "12/12 [==============================] - 13s 1s/step - loss: 0.2497 - accuracy: 0.1905 - val_loss: 0.2502 - val_accuracy: 1.0000\n",
            "Epoch 3/30\n",
            "12/12 [==============================] - 13s 1s/step - loss: 0.2472 - accuracy: 0.2430 - val_loss: 0.2500 - val_accuracy: 1.0000\n",
            "Epoch 4/30\n",
            "12/12 [==============================] - 13s 1s/step - loss: 0.2470 - accuracy: 0.1485 - val_loss: 0.2500 - val_accuracy: 0.0000e+00\n",
            "Epoch 5/30\n",
            "12/12 [==============================] - 13s 1s/step - loss: 0.2471 - accuracy: 0.0000e+00 - val_loss: 0.2500 - val_accuracy: 0.0000e+00\n",
            "Epoch 6/30\n",
            "12/12 [==============================] - 13s 1s/step - loss: 0.2470 - accuracy: 0.0000e+00 - val_loss: 0.2500 - val_accuracy: 0.0000e+00\n",
            "Epoch 7/30\n",
            "12/12 [==============================] - 13s 1s/step - loss: 0.2470 - accuracy: 0.2003 - val_loss: 0.2500 - val_accuracy: 1.0000\n",
            "Epoch 8/30\n",
            "12/12 [==============================] - 13s 1s/step - loss: 0.2470 - accuracy: 0.2430 - val_loss: 0.2500 - val_accuracy: 1.0000\n",
            "Epoch 9/30\n",
            "12/12 [==============================] - 13s 1s/step - loss: 0.2470 - accuracy: 0.0896 - val_loss: 0.2500 - val_accuracy: 0.0000e+00\n",
            "Epoch 10/30\n",
            "12/12 [==============================] - 13s 1s/step - loss: 0.2470 - accuracy: 0.0000e+00 - val_loss: 0.2500 - val_accuracy: 0.0000e+00\n",
            "Epoch 11/30\n",
            "12/12 [==============================] - 13s 1s/step - loss: 0.2470 - accuracy: 0.1422 - val_loss: 0.2500 - val_accuracy: 1.0000\n",
            "Epoch 12/30\n",
            "12/12 [==============================] - 13s 1s/step - loss: 0.2470 - accuracy: 0.2430 - val_loss: 0.2500 - val_accuracy: 1.0000\n",
            "Epoch 13/30\n",
            "12/12 [==============================] - 13s 1s/step - loss: 0.2470 - accuracy: 0.1050 - val_loss: 0.2500 - val_accuracy: 0.0000e+00\n",
            "Epoch 14/30\n",
            "12/12 [==============================] - 13s 1s/step - loss: 0.2470 - accuracy: 0.0000e+00 - val_loss: 0.2500 - val_accuracy: 0.0000e+00\n",
            "Epoch 15/30\n",
            "12/12 [==============================] - 13s 1s/step - loss: 0.2470 - accuracy: 0.1751 - val_loss: 0.2500 - val_accuracy: 1.0000\n",
            "Epoch 16/30\n",
            "12/12 [==============================] - 13s 1s/step - loss: 0.2470 - accuracy: 0.2430 - val_loss: 0.2500 - val_accuracy: 0.0000e+00\n",
            "Epoch 17/30\n",
            "12/12 [==============================] - 13s 1s/step - loss: 0.2470 - accuracy: 0.0000e+00 - val_loss: 0.2500 - val_accuracy: 0.0000e+00\n",
            "Epoch 18/30\n",
            "12/12 [==============================] - 13s 1s/step - loss: 0.2470 - accuracy: 0.0434 - val_loss: 0.2500 - val_accuracy: 1.0000\n",
            "Epoch 19/30\n",
            "12/12 [==============================] - 13s 1s/step - loss: 0.2470 - accuracy: 0.2430 - val_loss: 0.2500 - val_accuracy: 1.0000\n",
            "Epoch 20/30\n",
            "12/12 [==============================] - 13s 1s/step - loss: 0.2470 - accuracy: 0.1092 - val_loss: 0.2500 - val_accuracy: 0.0000e+00\n",
            "Epoch 21/30\n",
            "12/12 [==============================] - 13s 1s/step - loss: 0.2470 - accuracy: 0.0000e+00 - val_loss: 0.2500 - val_accuracy: 0.0000e+00\n",
            "Epoch 22/30\n",
            "12/12 [==============================] - 13s 1s/step - loss: 0.2470 - accuracy: 0.2206 - val_loss: 0.2500 - val_accuracy: 1.0000\n",
            "Epoch 23/30\n",
            "12/12 [==============================] - 13s 1s/step - loss: 0.2470 - accuracy: 0.2185 - val_loss: 0.2500 - val_accuracy: 0.0000e+00\n",
            "Epoch 24/30\n",
            "12/12 [==============================] - 13s 1s/step - loss: 0.2470 - accuracy: 0.0000e+00 - val_loss: 0.2500 - val_accuracy: 1.0000\n",
            "Epoch 25/30\n",
            "12/12 [==============================] - 13s 1s/step - loss: 0.2470 - accuracy: 0.2430 - val_loss: 0.2500 - val_accuracy: 1.0000\n",
            "Epoch 26/30\n",
            "12/12 [==============================] - 13s 1s/step - loss: 0.2470 - accuracy: 0.2430 - val_loss: 0.2500 - val_accuracy: 1.0000\n",
            "Epoch 27/30\n",
            "12/12 [==============================] - 13s 1s/step - loss: 0.2470 - accuracy: 0.2430 - val_loss: 0.2500 - val_accuracy: 1.0000\n",
            "Epoch 28/30\n",
            "12/12 [==============================] - 13s 1s/step - loss: 0.2470 - accuracy: 0.2430 - val_loss: 0.2500 - val_accuracy: 1.0000\n",
            "Epoch 29/30\n",
            "12/12 [==============================] - 13s 1s/step - loss: 0.2470 - accuracy: 0.2430 - val_loss: 0.2500 - val_accuracy: 1.0000\n",
            "Epoch 30/30\n",
            "12/12 [==============================] - 13s 1s/step - loss: 0.2470 - accuracy: 0.2430 - val_loss: 0.2500 - val_accuracy: 1.0000\n",
            "Testing real faces\n",
            "[1 0 0]\n",
            "[1 1 0]\n",
            "The feature maps for the real faces\n",
            "\n"
          ]
        },
        {
          "output_type": "display_data",
          "data": {
            "image/png": "[encoded data removed]",
            "text/plain": [
              "<Figure size 432x288 with 1 Axes>"
            ]
          },
          "metadata": {
            "needs_background": "light"
          }
        },
        {
          "output_type": "display_data",
          "data": {
            "image/png": "[encoded data removed]",
            "text/plain": [
              "<Figure size 432x288 with 1 Axes>"
            ]
          },
          "metadata": {
            "needs_background": "light"
          }
        },
        {
          "output_type": "stream",
          "name": "stdout",
          "text": [
            "Testing fake faces\n",
            "[0 1 0]\n",
            "[1 1 0]\n",
            "The feature maps for the fake faces\n",
            "\n"
          ]
        },
        {
          "output_type": "display_data",
          "data": {
            "image/png": "[encoded data removed]",
            "text/plain": [
              "<Figure size 432x288 with 1 Axes>"
            ]
          },
          "metadata": {
            "needs_background": "light"
          }
        },
        {
          "output_type": "display_data",
          "data": {
            "image/png": "[encoded data removed]",
            "text/plain": [
              "<Figure size 432x288 with 1 Axes>"
            ]
          },
          "metadata": {
            "needs_background": "light"
          }
        },
        {
          "output_type": "stream",
          "name": "stdout",
          "text": [
            "Testing face with CNN\n",
            "feature maps for entire CNN\n"
          ]
        },
        {
          "output_type": "display_data",
          "data": {
            "image/png": "[encoded data removed]",
            "text/plain": [
              "<Figure size 432x288 with 1 Axes>"
            ]
          },
          "metadata": {
            "needs_background": "light"
          }
        },
        {
          "output_type": "display_data",
          "data": {
            "image/png": "[encoded data removed]",
            "text/plain": [
              "<Figure size 432x288 with 1 Axes>"
            ]
          },
          "metadata": {
            "needs_background": "light"
          }
        },
        {
          "output_type": "stream",
          "name": "stdout",
          "text": [
            "Fake faces\n"
          ]
        },
        {
          "output_type": "display_data",
          "data": {
            "image/png": "[encoded data removed]",
            "text/plain": [
              "<Figure size 432x288 with 1 Axes>"
            ]
          },
          "metadata": {
            "needs_background": "light"
          }
        },
        {
          "output_type": "display_data",
          "data": {
            "image/png": "[encoded data removed]",
            "text/plain": [
              "<Figure size 432x288 with 1 Axes>"
            ]
          },
          "metadata": {
            "needs_background": "light"
          }
        }
      ]
    }
  ]
}