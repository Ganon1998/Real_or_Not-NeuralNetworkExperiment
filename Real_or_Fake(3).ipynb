{
  "nbformat": 4,
  "nbformat_minor": 0,
  "metadata": {
    "colab": {
      "name": "Real_or_Fake.ipynb",
      "provenance": [],
      "collapsed_sections": [],
      "machine_shape": "hm"
    },
    "kernelspec": {
      "name": "python3",
      "display_name": "Python 3"
    },
    "language_info": {
      "name": "python"
    }
  },
  "cells": [
    {
      "cell_type": "code",
      "metadata": {
        "id": "h83pXhSE2KBL",
        "colab": {
          "base_uri": "https://localhost:8080/",
          "height": 1000
        },
        "outputId": "08484bc9-ab07-4cdf-8b92-49a2eca4f0de"
      },
      "source": [
        "import numpy as np\n",
        "import math\n",
        "import sys\n",
        "import statistics\n",
        "import tensorflow as tf\n",
        "import string\n",
        "import random\n",
        "import matplotlib.pyplot as plt\n",
        "import glob\n",
        "import os\n",
        "from PIL import Image\n",
        "from matplotlib import pyplot\n",
        "from tensorflow import keras\n",
        "from tensorflow.keras import layers\n",
        "from google.colab import drive\n",
        "from tensorflow.python.framework import ops\n",
        "from keras.preprocessing.image import load_img\n",
        "from keras.preprocessing.image import img_to_array\n",
        "from keras.models import Model\n",
        "from tensorflow.keras.layers.experimental import preprocessing\n",
        "\n",
        "drive.mount('/content/gdrive')\n",
        "\n",
        "# NN for data augmentation\n",
        "data_augmentation = tf.keras.Sequential([\n",
        "    layers.experimental.preprocessing.RandomWidth(0.1),\n",
        "    layers.experimental.preprocessing.RandomHeight(0.1),\n",
        "    layers.experimental.preprocessing.RandomZoom(0.2),\n",
        "  ])\n",
        "\n",
        "d = tf.keras.models.load_model('/content/gdrive/My Drive/NewUnsupFaceTwo')\n",
        "c = tf.keras.models.load_model('/content/gdrive/My Drive/OtherNewUnsupCNN')\n",
        "modelDen = keras.models.Sequential()\n",
        "modelCNN = keras.models.Sequential()\n",
        "\n",
        "# all of this is hard coded. Sadness.\n",
        "modelDen.add(d.layers[0])\n",
        "modelDen.add(keras.layers.Dense(8))\n",
        "modelDen.add(keras.layers.Activation('relu'))\n",
        "modelDen.add(keras.layers.Dropout(0.4))\n",
        "modelDen.add(keras.layers.Dense(2))  # fake or real face\n",
        "modelDen.add(keras.layers.Activation('sigmoid'))\n",
        "\n",
        "\n",
        "# CNN\n",
        "modelCNN.add(c.layers[0])\n",
        "modelCNN.add(keras.layers.Flatten())\n",
        "modelCNN.add(keras.layers.Dropout(0.4))\n",
        "modelCNN.add(keras.layers.Dense(2))  # fake or real face\n",
        "modelCNN.add(keras.layers.Activation('softmax'))\n",
        "\n",
        "x_train = []\n",
        "x_test = []\n",
        "\n",
        "y_train = []\n",
        "y_test = []\n",
        "\n",
        "x = []\n",
        "y = []\n",
        "\n",
        "realCount = 0\n",
        "fakeCount = 0\n",
        "\n",
        "x2 = []\n",
        "y2 = []\n",
        "\n",
        "z = []\n",
        "a = []\n",
        "\n",
        "print(\"Getting real faces\")\n",
        "for filename in glob.iglob(os.path.join('/content/gdrive/My Drive/realAndFake/real_and_fake_face/training_real/', \"*.jpg\")):\n",
        "  img = Image.open(filename)\n",
        "  img.thumbnail((128,128), Image.ANTIALIAS)\n",
        "  img = img_to_array(img) \n",
        "  img = tf.image.rgb_to_grayscale(img)\n",
        "  x.append(img)\n",
        "  y.append([1.0])\n",
        "  realCount += 1\n",
        "\n",
        "\n",
        "\n",
        "print(\"Getting fake faces\")\n",
        "for filename in glob.iglob(os.path.join('/content/gdrive/My Drive/realAndFake/real_and_fake_face/training_fake/', \"*.jpg\")):\n",
        "  img = Image.open(filename)\n",
        "  img.thumbnail((128,128), Image.ANTIALIAS)\n",
        "  img = img_to_array(img) \n",
        "  img = tf.image.rgb_to_grayscale(img)\n",
        "  x.append(img)\n",
        "  y.append([0.0])\n",
        "  fakeCount += 1\n",
        "\n",
        "\n",
        "x_train = x[:1428]\n",
        "x_test = x[1429:]\n",
        "\n",
        "y_train = y[:1428]\n",
        "y_test = y[1429:]\n",
        "\n",
        "\n",
        "'''ds_train = {}\n",
        "ds_test = {}\n",
        "ds_train = dict(zip(x_train, y_train))\n",
        "ds_test = dict(zip(x_test, y_test))\n",
        "\n",
        "\n",
        "temp = list(ds_train.keys)\n",
        "random.shuffle(temp)\n",
        "random.shuffle(temp)'''\n",
        "\n",
        "\n",
        "#y_train = np.asarray(y_train).astype('float32').reshape((-1,2))\n",
        "#y_test = np.asarray(y_test).astype('float32').reshape((-1,2))\n",
        "#x_train = np.asarray(x_train).astype('float32').reshape((-1,2))\n",
        "#x_test = np.asarray(x_test).astype('float32').reshape((-1,2))\n",
        "\n",
        "\n",
        "print(np.shape(y_train))\n",
        "print(np.shape(x_train))\n",
        "\n",
        "\n",
        "y_test = ops.convert_to_tensor(y_test, dtype=tf.float32) / 255.00\n",
        "y_train = ops.convert_to_tensor(y_train, dtype=tf.float32) / 255.00\n",
        "x_train = tf.convert_to_tensor(x_train, dtype=tf.float32) / 255.00\n",
        "x_test = tf.convert_to_tensor(x_test, dtype=tf.float32) / 255.00\n",
        "\n",
        "\n",
        "######################### using a non pretrained model #############################\n",
        "\n",
        "CNN_untrained = keras.models.Sequential(\n",
        "    [\n",
        "     keras.layers.Input((128, 128, 1)),\n",
        "     keras.layers.Conv2D(16, kernel_size=(3,3), activation='relu'),\n",
        "     keras.layers.MaxPool2D(),\n",
        "     keras.layers.Dropout(0.2),\n",
        "     keras.layers.Conv2D(8, kernel_size=(3,3), activation='relu'),\n",
        "     keras.layers.MaxPool2D(),\n",
        "     keras.layers.Dropout(0.2),\n",
        "     keras.layers.Flatten(),\n",
        "     keras.layers.Dense(2, activation='softmax')\n",
        "    ]\n",
        ")\n",
        "\n",
        "Dense_untrained = keras.models.Sequential(\n",
        "    [\n",
        "     keras.layers.Input((128, 128, 1)),\n",
        "     keras.layers.Dense(8, activation='relu'),\n",
        "     keras.layers.Dropout(0.2),\n",
        "     keras.layers.Dense(16, activation='relu'),\n",
        "     keras.layers.Dropout(0.2),\n",
        "     keras.layers.Dense(32, activation='relu'),\n",
        "     keras.layers.Dropout(0.2),\n",
        "     keras.layers.Flatten(),\n",
        "     keras.layers.Dense(2, activation='sigmoid')\n",
        "    ]\n",
        ")\n",
        "\n",
        "\n",
        "\n",
        "# batch size of 128 gave some close answers w/ MSE() w/ epochs=45\n",
        "modelDen.compile(optimizer=keras.optimizers.Adam(learning_rate=0.001), loss=keras.losses.MeanSquaredError(), metrics='accuracy')\n",
        "modelDen.fit(x=x_train, y=y_train, shuffle=True, batch_size=128, epochs=15, validation_data=(x_test, y_test))\n",
        "#modelDen.save('/content/gdrive/My Drive/fake-RealDense')\n",
        "\n",
        "\n",
        "print(\"================================================\")\n",
        "print(\"================================================\")\n",
        "print(\"================================================\")\n",
        "print(\"Training CNN model now.\\n\")\n",
        "\n",
        "modelCNN.compile(optimizer=keras.optimizers.Adam(learning_rate=0.001), loss=keras.losses.MeanSquaredError(), metrics='accuracy')\n",
        "modelCNN.fit(x=x_train, y=y_train, shuffle=True, batch_size=128, epochs=10, validation_data=(x_test, y_test))\n",
        "modelCNN.save('/content/gdrive/My Drive/fake-RealCNN')\n",
        "\n",
        "\n",
        "print(\"================================================\")\n",
        "print(\"================================================\")\n",
        "print(\"================================================\")\n",
        "print(\"Training Untrained CNN model now.\\n\")\n",
        "\n",
        "CNN_untrained.compile(optimizer=keras.optimizers.Adam(learning_rate=0.001), loss=keras.losses.MeanSquaredError(), metrics='accuracy')\n",
        "CNN_untrained.fit(x=x_train, y=y_train, shuffle=True, batch_size=128, epochs=25, validation_data=(x_test, y_test))\n",
        "CNN_untrained.save('/content/gdrive/My Drive/fake-Real-Untrained_CNN')\n",
        "\n",
        "print(\"================================================\")\n",
        "print(\"================================================\")\n",
        "print(\"================================================\")\n",
        "print(\"Training Untrained Dense model now.\\n\")\n",
        "\n",
        "Dense_untrained.compile(optimizer=keras.optimizers.Adam(learning_rate=0.001), loss=keras.losses.MeanSquaredError(), metrics='accuracy')\n",
        "Dense_untrained.fit(x=x_train, y=y_train, shuffle=True, batch_size=128, epochs=30, validation_data=(x_test, y_test))\n",
        "Dense_untrained.save('/content/gdrive/My Drive/fake-Real-Untrained_Dense')\n",
        "\n",
        "\n",
        "################ Predictions begin here ################\n",
        "\n",
        "\n",
        "print(\"-----Testing real faces-----\")\n",
        "imgWoman = load_img('/content/gdrive/My Drive/test2.jpg', target_size=(128, 128))\n",
        "imgMan = load_img('/content/gdrive/My Drive/test3.jpg', target_size=(128, 128))\n",
        "\n",
        "imgWoman = img_to_array(imgWoman)\n",
        "imgMan = img_to_array(imgMan)\n",
        "\n",
        "imgWoman = imgWoman.reshape(-1, 128, 128, 1)\n",
        "imgMan = imgMan.reshape(-1, 128, 128, 1)\n",
        "\n",
        "feature_mapsW = modelDen.predict(imgWoman)\n",
        "feature_mapsM = modelDen.predict(imgMan)\n",
        "print(np.argmax(feature_mapsM, axis = 1))\n",
        "print(np.argmax(feature_mapsW, axis = 1))\n",
        "\n",
        "print(\"The feature maps for the real faces\\n\")\n",
        "pyplot.imshow(feature_mapsW[:,:], cmap='gray')\n",
        "pyplot.show()\n",
        "pyplot.imshow(feature_mapsM[:,:], cmap='gray')\n",
        "pyplot.show()\n",
        "\n",
        "\n",
        "print(\"-----Testing fake faces-----\")\n",
        "fake1 = load_img('/content/gdrive/My Drive/1-detectingfak.jpg', target_size=(128, 128))\n",
        "fake2 = load_img('/content/gdrive/My Drive/image2.jpg', target_size=(128, 128))\n",
        "\n",
        "img1 = img_to_array(fake1)\n",
        "img2 = img_to_array(fake2)\n",
        "\n",
        "img1 = img1.reshape(-1, 128, 128, 1)\n",
        "img2 = img2.reshape(-1, 128, 128, 1)\n",
        "\n",
        "feature_maps1 = modelDen.predict(img1)\n",
        "feature_maps2 = modelDen.predict(img2)\n",
        "\n",
        "print(np.argmax(feature_maps1, axis = 1))\n",
        "print(np.argmax(feature_maps2, axis = 1))\n",
        "\n",
        "print(\"The feature maps for the fake faces\\n\")\n",
        "pyplot.imshow(feature_maps1[:,:], cmap='gray')\n",
        "pyplot.show()\n",
        "pyplot.imshow(feature_maps2[:,:], cmap='gray')\n",
        "pyplot.show()\n",
        "\n",
        "\n",
        "\n",
        "\n",
        "\n",
        "print(\"-----Testing face with CNN-----\")\n",
        "feature_mapCNN = modelCNN.predict(imgWoman)\n",
        "feature_mapCNN2 = modelCNN.predict(imgMan)\n",
        "feature_mapCNN3 = modelCNN.predict(img1)\n",
        "feature_mapCNN4 = modelCNN.predict(img2)\n",
        "\n",
        "print(\"feature maps for entire CNN\")\n",
        "pyplot.imshow(feature_mapCNN[:,:], cmap='gray')\n",
        "pyplot.show()\n",
        "pyplot.imshow(feature_mapCNN2[:,:], cmap='gray')\n",
        "pyplot.show()\n",
        "print(\"Fake faces\")\n",
        "pyplot.imshow(feature_mapCNN3[:,:], cmap='gray')\n",
        "pyplot.show()\n",
        "pyplot.imshow(feature_mapCNN4[:,:], cmap='gray')\n",
        "pyplot.show()\n",
        "\n",
        "\n",
        "\n",
        "\n",
        "\n",
        "\n",
        "\n",
        "print(\"-----Testing face with Untrained CNN-----\")\n",
        "feature_mapCNN = CNN_untrained.predict(imgWoman)\n",
        "feature_mapCNN2 = CNN_untrained.predict(imgMan)\n",
        "feature_mapCNN3 = CNN_untrained.predict(img1)\n",
        "feature_mapCNN4 = CNN_untrained.predict(img2)\n",
        "\n",
        "print(\"feature maps for entire CNN\")\n",
        "pyplot.imshow(feature_mapCNN[:,:], cmap='gray')\n",
        "pyplot.show()\n",
        "pyplot.imshow(feature_mapCNN2[:,:], cmap='gray')\n",
        "pyplot.show()\n",
        "print(\"Fake faces\")\n",
        "pyplot.imshow(feature_mapCNN3[:,:], cmap='gray')\n",
        "pyplot.show()\n",
        "pyplot.imshow(feature_mapCNN4[:,:], cmap='gray')\n",
        "pyplot.show()\n",
        "\n",
        "\n",
        "\n",
        "\n",
        "\n",
        "\n",
        "print(\"-----Testing face with Untrained Dense-----\")\n",
        "feature_map = Dense_untrained.predict(imgWoman)\n",
        "feature_map2 = Dense_untrained.predict(imgMan)\n",
        "feature_map3 = Dense_untrained.predict(img1)\n",
        "feature_map4 = Dense_untrained.predict(img2)\n",
        "\n",
        "print(\"feature maps for entire CNN\")\n",
        "pyplot.imshow(feature_map[:,:], cmap='gray')\n",
        "pyplot.show()\n",
        "pyplot.imshow(feature_map2[:,:], cmap='gray')\n",
        "pyplot.show()\n",
        "print(\"Fake faces\")\n",
        "pyplot.imshow(feature_map3[:,:], cmap='gray')\n",
        "pyplot.show()\n",
        "pyplot.imshow(feature_map4[:,:], cmap='gray')\n",
        "pyplot.show()"
      ],
      "execution_count": 21,
      "outputs": [
        {
          "output_type": "stream",
          "name": "stdout",
          "text": [
            "Drive already mounted at /content/gdrive; to attempt to forcibly remount, call drive.mount(\"/content/gdrive\", force_remount=True).\n",
            "Getting real faces\n",
            "Getting fake faces\n",
            "(1428, 1)\n",
            "(1428, 128, 128, 1)\n",
            "Epoch 1/15\n",
            "12/12 [==============================] - 1s 80ms/step - loss: 0.2458 - accuracy: 0.2430 - val_loss: 0.2470 - val_accuracy: 1.0000\n",
            "Epoch 2/15\n",
            "12/12 [==============================] - 0s 19ms/step - loss: 0.2428 - accuracy: 0.2430 - val_loss: 0.2440 - val_accuracy: 1.0000\n",
            "Epoch 3/15\n",
            "12/12 [==============================] - 0s 19ms/step - loss: 0.2399 - accuracy: 0.2430 - val_loss: 0.2411 - val_accuracy: 1.0000\n",
            "Epoch 4/15\n",
            "12/12 [==============================] - 0s 19ms/step - loss: 0.2370 - accuracy: 0.2430 - val_loss: 0.2382 - val_accuracy: 1.0000\n",
            "Epoch 5/15\n",
            "12/12 [==============================] - 0s 19ms/step - loss: 0.2341 - accuracy: 0.2430 - val_loss: 0.2353 - val_accuracy: 1.0000\n",
            "Epoch 6/15\n",
            "12/12 [==============================] - 0s 19ms/step - loss: 0.2312 - accuracy: 0.2430 - val_loss: 0.2324 - val_accuracy: 1.0000\n",
            "Epoch 7/15\n",
            "12/12 [==============================] - 0s 19ms/step - loss: 0.2284 - accuracy: 0.2430 - val_loss: 0.2296 - val_accuracy: 1.0000\n",
            "Epoch 8/15\n",
            "12/12 [==============================] - 0s 19ms/step - loss: 0.2256 - accuracy: 0.2430 - val_loss: 0.2268 - val_accuracy: 1.0000\n",
            "Epoch 9/15\n",
            "12/12 [==============================] - 0s 19ms/step - loss: 0.2228 - accuracy: 0.2430 - val_loss: 0.2240 - val_accuracy: 1.0000\n",
            "Epoch 10/15\n",
            "12/12 [==============================] - 0s 19ms/step - loss: 0.2200 - accuracy: 0.2430 - val_loss: 0.2213 - val_accuracy: 1.0000\n",
            "Epoch 11/15\n",
            "12/12 [==============================] - 0s 19ms/step - loss: 0.2173 - accuracy: 0.2430 - val_loss: 0.2185 - val_accuracy: 1.0000\n",
            "Epoch 12/15\n",
            "12/12 [==============================] - 0s 19ms/step - loss: 0.2146 - accuracy: 0.2430 - val_loss: 0.2158 - val_accuracy: 1.0000\n",
            "Epoch 13/15\n",
            "12/12 [==============================] - 0s 19ms/step - loss: 0.2120 - accuracy: 0.2430 - val_loss: 0.2132 - val_accuracy: 1.0000\n",
            "Epoch 14/15\n",
            "12/12 [==============================] - 0s 19ms/step - loss: 0.2093 - accuracy: 0.2430 - val_loss: 0.2105 - val_accuracy: 1.0000\n",
            "Epoch 15/15\n",
            "12/12 [==============================] - 0s 18ms/step - loss: 0.2067 - accuracy: 0.2430 - val_loss: 0.2079 - val_accuracy: 1.0000\n",
            "================================================\n",
            "================================================\n",
            "================================================\n",
            "Training CNN model now.\n",
            "\n",
            "Epoch 1/10\n",
            "12/12 [==============================] - 3s 178ms/step - loss: 0.2589 - accuracy: 0.1436 - val_loss: 0.2511 - val_accuracy: 0.0016\n",
            "Epoch 2/10\n",
            "12/12 [==============================] - 2s 167ms/step - loss: 0.2489 - accuracy: 0.0602 - val_loss: 0.2500 - val_accuracy: 0.9395\n",
            "Epoch 3/10\n",
            "12/12 [==============================] - 2s 170ms/step - loss: 0.2475 - accuracy: 0.1821 - val_loss: 0.2500 - val_accuracy: 0.8938\n",
            "Epoch 4/10\n",
            "12/12 [==============================] - 2s 170ms/step - loss: 0.2472 - accuracy: 0.1506 - val_loss: 0.2500 - val_accuracy: 0.1111\n",
            "Epoch 5/10\n",
            "12/12 [==============================] - 2s 169ms/step - loss: 0.2471 - accuracy: 0.1071 - val_loss: 0.2500 - val_accuracy: 0.0098\n",
            "Epoch 6/10\n",
            "12/12 [==============================] - 2s 165ms/step - loss: 0.2471 - accuracy: 0.1127 - val_loss: 0.2500 - val_accuracy: 0.0016\n",
            "Epoch 7/10\n",
            "12/12 [==============================] - 2s 165ms/step - loss: 0.2471 - accuracy: 0.1099 - val_loss: 0.2500 - val_accuracy: 0.0000e+00\n",
            "Epoch 8/10\n",
            "12/12 [==============================] - 2s 165ms/step - loss: 0.2471 - accuracy: 0.1162 - val_loss: 0.2500 - val_accuracy: 0.0000e+00\n",
            "Epoch 9/10\n",
            "12/12 [==============================] - 2s 165ms/step - loss: 0.2471 - accuracy: 0.1176 - val_loss: 0.2500 - val_accuracy: 0.0000e+00\n",
            "Epoch 10/10\n",
            "12/12 [==============================] - 2s 167ms/step - loss: 0.2471 - accuracy: 0.1169 - val_loss: 0.2500 - val_accuracy: 0.0000e+00\n",
            "INFO:tensorflow:Assets written to: /content/gdrive/My Drive/fake-RealCNN/assets\n",
            "================================================\n",
            "================================================\n",
            "================================================\n",
            "Training Untrained CNN model now.\n",
            "\n",
            "Epoch 1/25\n",
            "12/12 [==============================] - 8s 624ms/step - loss: 0.2686 - accuracy: 0.1148 - val_loss: 0.2519 - val_accuracy: 0.9918\n",
            "Epoch 2/25\n",
            "12/12 [==============================] - 7s 608ms/step - loss: 0.2493 - accuracy: 0.1141 - val_loss: 0.2502 - val_accuracy: 0.0114\n",
            "Epoch 3/25\n",
            "12/12 [==============================] - 7s 601ms/step - loss: 0.2476 - accuracy: 0.0322 - val_loss: 0.2500 - val_accuracy: 0.7206\n",
            "Epoch 4/25\n",
            "12/12 [==============================] - 7s 602ms/step - loss: 0.2471 - accuracy: 0.1120 - val_loss: 0.2500 - val_accuracy: 0.8873\n",
            "Epoch 5/25\n",
            "12/12 [==============================] - 7s 600ms/step - loss: 0.2471 - accuracy: 0.1562 - val_loss: 0.2500 - val_accuracy: 0.9134\n",
            "Epoch 6/25\n",
            "12/12 [==============================] - 7s 599ms/step - loss: 0.2471 - accuracy: 0.1541 - val_loss: 0.2500 - val_accuracy: 0.9248\n",
            "Epoch 7/25\n",
            "12/12 [==============================] - 7s 609ms/step - loss: 0.2471 - accuracy: 0.1534 - val_loss: 0.2500 - val_accuracy: 0.9461\n",
            "Epoch 8/25\n",
            "12/12 [==============================] - 7s 609ms/step - loss: 0.2471 - accuracy: 0.1457 - val_loss: 0.2500 - val_accuracy: 0.9641\n",
            "Epoch 9/25\n",
            "12/12 [==============================] - 7s 602ms/step - loss: 0.2470 - accuracy: 0.1555 - val_loss: 0.2500 - val_accuracy: 0.9755\n",
            "Epoch 10/25\n",
            "12/12 [==============================] - 7s 606ms/step - loss: 0.2470 - accuracy: 0.1681 - val_loss: 0.2500 - val_accuracy: 0.9837\n",
            "Epoch 11/25\n",
            "12/12 [==============================] - 7s 605ms/step - loss: 0.2470 - accuracy: 0.1625 - val_loss: 0.2500 - val_accuracy: 0.9820\n",
            "Epoch 12/25\n",
            "12/12 [==============================] - 7s 604ms/step - loss: 0.2470 - accuracy: 0.1744 - val_loss: 0.2500 - val_accuracy: 0.9820\n",
            "Epoch 13/25\n",
            "12/12 [==============================] - 7s 608ms/step - loss: 0.2470 - accuracy: 0.1576 - val_loss: 0.2500 - val_accuracy: 0.9804\n",
            "Epoch 14/25\n",
            "12/12 [==============================] - 7s 604ms/step - loss: 0.2470 - accuracy: 0.1548 - val_loss: 0.2500 - val_accuracy: 0.9788\n",
            "Epoch 15/25\n",
            "12/12 [==============================] - 7s 608ms/step - loss: 0.2470 - accuracy: 0.1653 - val_loss: 0.2500 - val_accuracy: 0.9788\n",
            "Epoch 16/25\n",
            "12/12 [==============================] - 7s 600ms/step - loss: 0.2470 - accuracy: 0.1632 - val_loss: 0.2500 - val_accuracy: 0.9788\n",
            "Epoch 17/25\n",
            "12/12 [==============================] - 7s 600ms/step - loss: 0.2470 - accuracy: 0.1513 - val_loss: 0.2500 - val_accuracy: 0.9804\n",
            "Epoch 18/25\n",
            "12/12 [==============================] - 7s 603ms/step - loss: 0.2470 - accuracy: 0.1709 - val_loss: 0.2500 - val_accuracy: 0.9771\n",
            "Epoch 19/25\n",
            "12/12 [==============================] - 7s 601ms/step - loss: 0.2470 - accuracy: 0.1534 - val_loss: 0.2500 - val_accuracy: 0.9755\n",
            "Epoch 20/25\n",
            "12/12 [==============================] - 7s 596ms/step - loss: 0.2470 - accuracy: 0.1548 - val_loss: 0.2500 - val_accuracy: 0.9755\n",
            "Epoch 21/25\n",
            "12/12 [==============================] - 7s 607ms/step - loss: 0.2470 - accuracy: 0.1478 - val_loss: 0.2500 - val_accuracy: 0.9755\n",
            "Epoch 22/25\n",
            "12/12 [==============================] - 7s 598ms/step - loss: 0.2470 - accuracy: 0.1485 - val_loss: 0.2500 - val_accuracy: 0.9755\n",
            "Epoch 23/25\n",
            "12/12 [==============================] - 7s 604ms/step - loss: 0.2470 - accuracy: 0.1408 - val_loss: 0.2500 - val_accuracy: 0.9771\n",
            "Epoch 24/25\n",
            "12/12 [==============================] - 7s 601ms/step - loss: 0.2470 - accuracy: 0.1464 - val_loss: 0.2500 - val_accuracy: 0.9788\n",
            "Epoch 25/25\n",
            "12/12 [==============================] - 7s 603ms/step - loss: 0.2470 - accuracy: 0.1373 - val_loss: 0.2500 - val_accuracy: 0.9771\n",
            "INFO:tensorflow:Assets written to: /content/gdrive/My Drive/fake-Real-Untrained_CNN/assets\n",
            "================================================\n",
            "================================================\n",
            "================================================\n",
            "Training Untrained Dense model now.\n",
            "\n",
            "Epoch 1/30\n",
            "12/12 [==============================] - 15s 1s/step - loss: 0.0219 - accuracy: 0.2206 - val_loss: 1.5793e-14 - val_accuracy: 0.9951\n",
            "Epoch 2/30\n",
            "12/12 [==============================] - 14s 1s/step - loss: 1.1642e-05 - accuracy: 0.2143 - val_loss: 1.1096e-18 - val_accuracy: 0.9951\n",
            "Epoch 3/30\n",
            "12/12 [==============================] - 14s 1s/step - loss: 1.1642e-05 - accuracy: 0.2136 - val_loss: 3.7453e-20 - val_accuracy: 0.9951\n",
            "Epoch 4/30\n",
            "12/12 [==============================] - 14s 1s/step - loss: 1.1642e-05 - accuracy: 0.2171 - val_loss: 1.2055e-20 - val_accuracy: 0.9951\n",
            "Epoch 5/30\n",
            "12/12 [==============================] - 14s 1s/step - loss: 1.1642e-05 - accuracy: 0.2157 - val_loss: 8.3700e-21 - val_accuracy: 0.9951\n",
            "Epoch 6/30\n",
            "12/12 [==============================] - 14s 1s/step - loss: 1.1642e-05 - accuracy: 0.2087 - val_loss: 7.4651e-21 - val_accuracy: 0.9951\n",
            "Epoch 7/30\n",
            "12/12 [==============================] - 14s 1s/step - loss: 1.1642e-05 - accuracy: 0.2178 - val_loss: 7.2064e-21 - val_accuracy: 0.9951\n",
            "Epoch 8/30\n",
            "12/12 [==============================] - 14s 1s/step - loss: 1.1642e-05 - accuracy: 0.2171 - val_loss: 7.1293e-21 - val_accuracy: 0.9951\n",
            "Epoch 9/30\n",
            "12/12 [==============================] - 14s 1s/step - loss: 1.1642e-05 - accuracy: 0.2101 - val_loss: 7.1063e-21 - val_accuracy: 0.9951\n",
            "Epoch 10/30\n",
            "12/12 [==============================] - 14s 1s/step - loss: 1.1642e-05 - accuracy: 0.2024 - val_loss: 7.0994e-21 - val_accuracy: 0.9951\n",
            "Epoch 11/30\n",
            "12/12 [==============================] - 14s 1s/step - loss: 1.1642e-05 - accuracy: 0.2073 - val_loss: 7.0974e-21 - val_accuracy: 0.9951\n",
            "Epoch 12/30\n",
            "12/12 [==============================] - 14s 1s/step - loss: 1.1642e-05 - accuracy: 0.2157 - val_loss: 7.0968e-21 - val_accuracy: 0.9951\n",
            "Epoch 13/30\n",
            "12/12 [==============================] - 14s 1s/step - loss: 1.1642e-05 - accuracy: 0.2143 - val_loss: 7.0967e-21 - val_accuracy: 0.9951\n",
            "Epoch 14/30\n",
            "12/12 [==============================] - 14s 1s/step - loss: 1.1642e-05 - accuracy: 0.2199 - val_loss: 7.0967e-21 - val_accuracy: 0.9951\n",
            "Epoch 15/30\n",
            "12/12 [==============================] - 14s 1s/step - loss: 1.1642e-05 - accuracy: 0.2087 - val_loss: 7.0967e-21 - val_accuracy: 0.9951\n",
            "Epoch 16/30\n",
            "12/12 [==============================] - 14s 1s/step - loss: 1.1642e-05 - accuracy: 0.2108 - val_loss: 7.0967e-21 - val_accuracy: 0.9951\n",
            "Epoch 17/30\n",
            "12/12 [==============================] - 14s 1s/step - loss: 1.1642e-05 - accuracy: 0.2164 - val_loss: 7.0967e-21 - val_accuracy: 0.9951\n",
            "Epoch 18/30\n",
            "12/12 [==============================] - 14s 1s/step - loss: 1.1642e-05 - accuracy: 0.2101 - val_loss: 7.0967e-21 - val_accuracy: 0.9951\n",
            "Epoch 19/30\n",
            "12/12 [==============================] - 14s 1s/step - loss: 1.1642e-05 - accuracy: 0.2178 - val_loss: 7.0967e-21 - val_accuracy: 0.9951\n",
            "Epoch 20/30\n",
            "12/12 [==============================] - 14s 1s/step - loss: 1.1642e-05 - accuracy: 0.2115 - val_loss: 7.0967e-21 - val_accuracy: 0.9951\n",
            "Epoch 21/30\n",
            "12/12 [==============================] - 14s 1s/step - loss: 1.1642e-05 - accuracy: 0.2136 - val_loss: 7.0967e-21 - val_accuracy: 0.9951\n",
            "Epoch 22/30\n",
            "12/12 [==============================] - 14s 1s/step - loss: 1.1642e-05 - accuracy: 0.2038 - val_loss: 7.0967e-21 - val_accuracy: 0.9951\n",
            "Epoch 23/30\n",
            "12/12 [==============================] - 14s 1s/step - loss: 1.1642e-05 - accuracy: 0.2171 - val_loss: 7.0967e-21 - val_accuracy: 0.9951\n",
            "Epoch 24/30\n",
            "12/12 [==============================] - 14s 1s/step - loss: 1.1642e-05 - accuracy: 0.2150 - val_loss: 7.0967e-21 - val_accuracy: 0.9951\n",
            "Epoch 25/30\n",
            "12/12 [==============================] - 14s 1s/step - loss: 1.1642e-05 - accuracy: 0.2101 - val_loss: 7.0967e-21 - val_accuracy: 0.9951\n",
            "Epoch 26/30\n",
            "12/12 [==============================] - 14s 1s/step - loss: 1.1642e-05 - accuracy: 0.2192 - val_loss: 7.0967e-21 - val_accuracy: 0.9951\n",
            "Epoch 27/30\n",
            "12/12 [==============================] - 14s 1s/step - loss: 1.1642e-05 - accuracy: 0.2185 - val_loss: 7.0967e-21 - val_accuracy: 0.9951\n",
            "Epoch 28/30\n",
            "12/12 [==============================] - 14s 1s/step - loss: 1.1642e-05 - accuracy: 0.2129 - val_loss: 7.0967e-21 - val_accuracy: 0.9951\n",
            "Epoch 29/30\n",
            "12/12 [==============================] - 14s 1s/step - loss: 1.1642e-05 - accuracy: 0.2108 - val_loss: 7.0967e-21 - val_accuracy: 0.9951\n",
            "Epoch 30/30\n",
            "12/12 [==============================] - 14s 1s/step - loss: 1.1642e-05 - accuracy: 0.2094 - val_loss: 7.0967e-21 - val_accuracy: 0.9951\n",
            "INFO:tensorflow:Assets written to: /content/gdrive/My Drive/fake-Real-Untrained_Dense/assets\n",
            "-----Testing real faces-----\n",
            "[1 0 1]\n",
            "[0 1 1]\n",
            "The feature maps for the real faces\n",
            "\n"
          ]
        },
        {
          "output_type": "display_data",
          "data": {
            "image/png": "[encoded data removed]",
            "text/plain": [
              "<Figure size 432x288 with 1 Axes>"
            ]
          },
          "metadata": {
            "needs_background": "light"
          }
        },
        {
          "output_type": "display_data",
          "data": {
            "image/png": "[encoded data removed]",
            "text/plain": [
              "<Figure size 432x288 with 1 Axes>"
            ]
          },
          "metadata": {
            "needs_background": "light"
          }
        },
        {
          "output_type": "stream",
          "name": "stdout",
          "text": [
            "-----Testing fake faces-----\n",
            "[1 1 1]\n",
            "[1 1 1]\n",
            "The feature maps for the fake faces\n",
            "\n"
          ]
        },
        {
          "output_type": "display_data",
          "data": {
            "image/png": "[encoded data removed]",
            "text/plain": [
              "<Figure size 432x288 with 1 Axes>"
            ]
          },
          "metadata": {
            "needs_background": "light"
          }
        },
        {
          "output_type": "display_data",
          "data": {
            "image/png": "[encoded data removed]",
            "text/plain": [
              "<Figure size 432x288 with 1 Axes>"
            ]
          },
          "metadata": {
            "needs_background": "light"
          }
        },
        {
          "output_type": "stream",
          "name": "stdout",
          "text": [
            "-----Testing face with CNN-----\n",
            "feature maps for entire CNN\n"
          ]
        },
        {
          "output_type": "display_data",
          "data": {
            "image/png": "[encoded data removed]",
            "text/plain": [
              "<Figure size 432x288 with 1 Axes>"
            ]
          },
          "metadata": {
            "needs_background": "light"
          }
        },
        {
          "output_type": "display_data",
          "data": {
            "image/png": "[encoded data removed]",
            "text/plain": [
              "<Figure size 432x288 with 1 Axes>"
            ]
          },
          "metadata": {
            "needs_background": "light"
          }
        },
        {
          "output_type": "stream",
          "name": "stdout",
          "text": [
            "Fake faces\n"
          ]
        },
        {
          "output_type": "display_data",
          "data": {
            "image/png": "[encoded data removed]",
            "text/plain": [
              "<Figure size 432x288 with 1 Axes>"
            ]
          },
          "metadata": {
            "needs_background": "light"
          }
        },
        {
          "output_type": "display_data",
          "data": {
            "image/png": "[encoded data removed]",
            "text/plain": [
              "<Figure size 432x288 with 1 Axes>"
            ]
          },
          "metadata": {
            "needs_background": "light"
          }
        },
        {
          "output_type": "stream",
          "name": "stdout",
          "text": [
            "-----Testing face with Untrained CNN-----\n",
            "feature maps for entire CNN\n"
          ]
        },
        {
          "output_type": "display_data",
          "data": {
            "image/png": "[encoded data removed]",
            "text/plain": [
              "<Figure size 432x288 with 1 Axes>"
            ]
          },
          "metadata": {
            "needs_background": "light"
          }
        },
        {
          "output_type": "display_data",
          "data": {
            "image/png": "[encoded data removed]",
            "text/plain": [
              "<Figure size 432x288 with 1 Axes>"
            ]
          },
          "metadata": {
            "needs_background": "light"
          }
        },
        {
          "output_type": "stream",
          "name": "stdout",
          "text": [
            "Fake faces\n"
          ]
        },
        {
          "output_type": "display_data",
          "data": {
            "image/png": "[encoded data removed]",
            "text/plain": [
              "<Figure size 432x288 with 1 Axes>"
            ]
          },
          "metadata": {
            "needs_background": "light"
          }
        },
        {
          "output_type": "display_data",
          "data": {
            "image/png": "[encoded data removed]",
            "text/plain": [
              "<Figure size 432x288 with 1 Axes>"
            ]
          },
          "metadata": {
            "needs_background": "light"
          }
        },
        {
          "output_type": "stream",
          "name": "stdout",
          "text": [
            "-----Testing face with Untrained Dense-----\n",
            "feature maps for entire CNN\n"
          ]
        },
        {
          "output_type": "display_data",
          "data": {
            "image/png": "[encoded data removed]",
            "text/plain": [
              "<Figure size 432x288 with 1 Axes>"
            ]
          },
          "metadata": {
            "needs_background": "light"
          }
        },
        {
          "output_type": "display_data",
          "data": {
            "image/png": "[encoded data removed]",
            "text/plain": [
              "<Figure size 432x288 with 1 Axes>"
            ]
          },
          "metadata": {
            "needs_background": "light"
          }
        },
        {
          "output_type": "stream",
          "name": "stdout",
          "text": [
            "Fake faces\n"
          ]
        },
        {
          "output_type": "display_data",
          "data": {
            "image/png": "[encoded data removed]",
            "text/plain": [
              "<Figure size 432x288 with 1 Axes>"
            ]
          },
          "metadata": {
            "needs_background": "light"
          }
        },
        {
          "output_type": "display_data",
          "data": {
            "image/png": "[encoded data removed]",
            "text/plain": [
              "<Figure size 432x288 with 1 Axes>"
            ]
          },
          "metadata": {
            "needs_background": "light"
          }
        }
      ]
    }
  ]
}